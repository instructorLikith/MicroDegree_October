{
 "cells": [
  {
   "cell_type": "markdown",
   "id": "6c4f1412-017d-49a5-b1ea-41069d010f0c",
   "metadata": {},
   "source": [
    "HELLO WORLD"
   ]
  },
  {
   "cell_type": "code",
   "execution_count": null,
   "id": "a4d7f623-5da3-462c-9cf6-82baf95fb821",
   "metadata": {},
   "outputs": [],
   "source": [
    "print(\"Hello World\")\n",
    "print(100)"
   ]
  },
  {
   "cell_type": "markdown",
   "id": "8a62f961-5fe0-424a-9994-eac041abb9bc",
   "metadata": {},
   "source": [
    "# Variable Type"
   ]
  },
  {
   "cell_type": "code",
   "execution_count": 12,
   "id": "094dd8e1-c4cc-4df3-9d4d-e2594081127c",
   "metadata": {},
   "outputs": [
    {
     "name": "stdout",
     "output_type": "stream",
     "text": [
      "100\n",
      "<class 'int'>\n",
      "HELLO\n",
      "<class 'str'>\n",
      "False\n",
      "<class 'bool'>\n",
      "1.12\n",
      "<class 'float'>\n"
     ]
    }
   ],
   "source": [
    "#Int\n",
    "x=100\n",
    "print(x)\n",
    "print(type(x))\n",
    "\n",
    "#String\n",
    "y= \"HELLO\"\n",
    "print(y)\n",
    "print(type(y))\n",
    "\n",
    "#Boolean\n",
    "z= False\n",
    "print(z)\n",
    "print(type(z))\n",
    "\n",
    "#Float\n",
    "a= 1.12\n",
    "print(a)\n",
    "print(type(a))"
   ]
  },
  {
   "cell_type": "markdown",
   "id": "5e4b42d3-38cf-466c-bcb8-8e81427fc08d",
   "metadata": {},
   "source": [
    "# List Set Tuple Dictionary"
   ]
  },
  {
   "cell_type": "code",
   "execution_count": 30,
   "id": "2f572775-a0e7-4581-bb06-072f41199770",
   "metadata": {},
   "outputs": [
    {
     "name": "stdout",
     "output_type": "stream",
     "text": [
      "[100, 200, 300, 'Hello', 200]\n",
      "200\n",
      "200\n",
      "[200, 300]\n",
      "[100, 200, 600, 'Hello', 200]\n",
      "[200, 600, 'Hello', 200]\n",
      "[200, 'Hello', 200]\n"
     ]
    }
   ],
   "source": [
    "#LIST\n",
    "#mutable\n",
    "sample_list = [100,200,300,\"Hello\",200]\n",
    "print(sample_list)\n",
    "\n",
    "#Indexing\n",
    "print(sample_list[1])\n",
    "print(sample_list[-1])\n",
    "print(sample_list[1:3])\n",
    "\n",
    "#Update\n",
    "sample_list[2] = 600\n",
    "print(sample_list)\n",
    "\n",
    "#delete\n",
    "sample_list.remove(100)\n",
    "print(sample_list)\n",
    "del sample_list[1]\n",
    "print(sample_list)"
   ]
  },
  {
   "cell_type": "code",
   "execution_count": 29,
   "id": "0c0a7cfc-4b7e-45b7-ae67-288eb4398645",
   "metadata": {},
   "outputs": [
    {
     "name": "stdout",
     "output_type": "stream",
     "text": [
      "(900, 800, 700, 600, 600)\n",
      "(900, 800, 700)\n"
     ]
    }
   ],
   "source": [
    "#Tuple\n",
    "#immutable\n",
    "sample_tuple = (900,800,700,600,600)\n",
    "print(sample_tuple)\n",
    "print(sample_tuple[0:3])"
   ]
  },
  {
   "cell_type": "code",
   "execution_count": 39,
   "id": "74f1655f-2e5c-4265-af94-5023535d2f7b",
   "metadata": {},
   "outputs": [
    {
     "name": "stdout",
     "output_type": "stream",
     "text": [
      "{200, 100, 'Hello', 300}\n",
      "{'Hello', 100, 200, 300, 500}\n",
      "{'Hello', 100, 200, 300}\n",
      "{'Hello', 100, 200, 300, 500}\n"
     ]
    }
   ],
   "source": [
    "#Set\n",
    "#No Duplicates Allowed in Set\n",
    "sample_set = {100,200,300,100,200,300,\"Hello\"}\n",
    "print(sample_set)\n",
    "\n",
    "sample_set.add(500)\n",
    "print(sample_set)\n",
    "\n",
    "sample_set.remove(500)\n",
    "print(sample_set)\n",
    "\n",
    "sample_set.add(500)\n",
    "print(sample_set)"
   ]
  },
  {
   "cell_type": "code",
   "execution_count": 37,
   "id": "4c14bcc0-f373-402f-b6a4-c03f8014851e",
   "metadata": {},
   "outputs": [
    {
     "name": "stdout",
     "output_type": "stream",
     "text": [
      "[100, 200, 300, 100, 200, 'Hello']\n",
      "{200, 100, 'Hello', 300}\n",
      "(100, 200, 300, 100, 200, 'Hello')\n"
     ]
    }
   ],
   "source": [
    "sample = [100,200,300,100,200,\"Hello\"]\n",
    "print(sample)\n",
    "#Convert list into set\n",
    "new_sample = set(sample)\n",
    "print(new_sample)\n",
    "#Covert list into tuple\n",
    "new_tuple = tuple(sample)\n",
    "print(new_tuple)"
   ]
  },
  {
   "cell_type": "code",
   "execution_count": 64,
   "id": "80595dae-8721-4db4-8b10-b5eaf7f4843f",
   "metadata": {},
   "outputs": [
    {
     "name": "stdout",
     "output_type": "stream",
     "text": [
      "{'x': 300, 'y': 200}\n",
      "dict_keys(['x', 'y'])\n",
      "dict_values([300, 200])\n",
      "{'x': 111, 'y': 200}\n",
      "{'x': 111, 'y': 200, 'a': 400}\n"
     ]
    }
   ],
   "source": [
    "#Dictinary\n",
    "#key:value\n",
    "\n",
    "sample_dict = {\"x\":100,\"y\":200,\"x\":300}\n",
    "print(sample_dict)\n",
    "\n",
    "print(sample_dict.keys())\n",
    "print(sample_dict.values())\n",
    "\n",
    "#Update Value\n",
    "sample_dict[\"x\"] = 111\n",
    "print(sample_dict)\n",
    "\n",
    "#Add new value\n",
    "sample_dict[\"a\"] = 400\n",
    "print(sample_dict)"
   ]
  },
  {
   "cell_type": "markdown",
   "id": "f404389c-830d-43f2-9eac-e1f3b45ce220",
   "metadata": {},
   "source": [
    "# Conditional Statements"
   ]
  },
  {
   "cell_type": "code",
   "execution_count": 53,
   "id": "f03bbad6-7c26-47f7-855f-5d0ae259efbe",
   "metadata": {},
   "outputs": [
    {
     "name": "stdout",
     "output_type": "stream",
     "text": [
      "Fail\n"
     ]
    }
   ],
   "source": [
    "marks = 25\n",
    "if marks >= 35 and marks <= 59:\n",
    "    print(\"Pass\")\n",
    "elif marks >=60 and marks <= 79:\n",
    "    print(\"First Class\")\n",
    "elif marks >= 80 and marks <= 100:\n",
    "    print(\"Distinction\")\n",
    "else:\n",
    "    print(\"Fail\")"
   ]
  },
  {
   "cell_type": "markdown",
   "id": "b2e17561-549d-4a74-ab2d-18e061f59b4d",
   "metadata": {},
   "source": [
    "# Loops"
   ]
  },
  {
   "cell_type": "code",
   "execution_count": 60,
   "id": "6ec3a9e7-3358-4d5f-a4d8-ea6efca2095e",
   "metadata": {},
   "outputs": [
    {
     "name": "stdout",
     "output_type": "stream",
     "text": [
      "100\n",
      "200\n",
      "300\n",
      "Hello\n",
      "Range with Single Value\n",
      "0\n",
      "1\n",
      "2\n",
      "3\n",
      "4\n",
      "5\n",
      "6\n",
      "Range with Two Values\n",
      "30\n",
      "31\n",
      "32\n",
      "33\n",
      "34\n",
      "Range with three Values\n",
      "20\n",
      "24\n",
      "28\n",
      "32\n",
      "36\n"
     ]
    }
   ],
   "source": [
    "#For Loop\n",
    "\n",
    "sample = [100,200,300,\"Hello\"]\n",
    "for item in sample:\n",
    "    print(item)\n",
    "\n",
    "print(\"Range with Single Value\")\n",
    "for item in range(7):\n",
    "    print(item)\n",
    "\n",
    "print(\"Range with Two Values\")\n",
    "for item in range(30,35):\n",
    "    print(item)\n",
    "\n",
    "print(\"Range with three Values\")\n",
    "for item in range(20,40,4):\n",
    "    print(item)"
   ]
  },
  {
   "cell_type": "markdown",
   "id": "ce392661-f582-4de0-86bb-6904557fd500",
   "metadata": {},
   "source": [
    "# While Loop"
   ]
  },
  {
   "cell_type": "code",
   "execution_count": 62,
   "id": "4a2f3caa-0771-4fb6-8bea-0c06e930615d",
   "metadata": {},
   "outputs": [
    {
     "name": "stdout",
     "output_type": "stream",
     "text": [
      "0\n",
      "1\n",
      "2\n",
      "3\n",
      "4\n",
      "6\n",
      "7\n"
     ]
    }
   ],
   "source": [
    "xx = 0\n",
    "while xx<8:\n",
    "    if xx==5:\n",
    "        xx+=1\n",
    "        continue\n",
    "    print(xx)\n",
    "    xx+=1"
   ]
  },
  {
   "cell_type": "code",
   "execution_count": null,
   "id": "77ec3e98-ad25-42ba-b3ad-c3fb5d02655c",
   "metadata": {},
   "outputs": [],
   "source": []
  }
 ],
 "metadata": {
  "kernelspec": {
   "display_name": "Python 3 (ipykernel)",
   "language": "python",
   "name": "python3"
  },
  "language_info": {
   "codemirror_mode": {
    "name": "ipython",
    "version": 3
   },
   "file_extension": ".py",
   "mimetype": "text/x-python",
   "name": "python",
   "nbconvert_exporter": "python",
   "pygments_lexer": "ipython3",
   "version": "3.12.5"
  }
 },
 "nbformat": 4,
 "nbformat_minor": 5
}
